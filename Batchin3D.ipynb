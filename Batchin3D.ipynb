{
 "cells": [
  {
   "cell_type": "code",
   "execution_count": null,
   "metadata": {},
   "outputs": [],
   "source": [
    "from __future__ import print_function, unicode_literals, absolute_import, division\n",
    "import numpy as np\n",
    "from itertools import islice \n",
    "import matplotlib.pyplot as plt\n",
    "%matplotlib inline\n",
    "%config InlineBackend.figure_format = 'retina'\n",
    "import os\n",
    "import glob\n",
    "import sys\n",
    "from GenerateConnectedComps import ConnecProbability\n",
    "sys.path.insert(0, \"/data/u934/service_imagerie/v_kapoor/anaconda2/bin/PyImage/utils\")\n",
    "from tifffile import imread\n",
    "from csbdeep.utils import Path, normalize\n",
    "from skimage.segmentation import find_boundaries\n",
    "from csbdeep.io import save_tiff_imagej_compatible\n",
    "from stardist import dist_to_coord, non_maximum_suppression, polygons_to_label\n",
    "from stardist import random_label_cmap, draw_polygons, sample_points,fill_label_holes\n",
    "from stardist import Config, StarDist\n",
    "import skimage\n",
    "import scipy\n",
    "from Normalize import Path,normalizeMinMax, fill_label_holes, save_tiff_imagej_compatible\n",
    "from skimage import measure\n",
    "from skimage import filters\n",
    "from skimage.morphology import remove_small_objects\n",
    "from skimage.filters import threshold_otsu\n",
    "from skimage.exposure import rescale_intensity\n",
    "from scipy import ndimage\n",
    "np.random.seed(6)\n",
    "lbl_cmap = random_label_cmap()"
   ]
  },
  {
   "cell_type": "markdown",
   "metadata": {},
   "source": [
    "# Specify the Source and Target directory for reading and writing XYT shape images, the directory of the models and the model name"
   ]
  },
  {
   "cell_type": "code",
   "execution_count": null,
   "metadata": {},
   "outputs": [],
   "source": [
    "SourceDir = '/data/u934/service_imagerie/v_kapoor/HEARD/UNet-training/test3D/'\n",
    "TargetDir = '/data/u934/service_imagerie/v_kapoor/HEARD/UNet-training/results3D/'\n",
    "ModelName = 'StemCell256Rays'\n",
    "ModelDirectory = '../models/Curiemodels'"
   ]
  },
  {
   "cell_type": "markdown",
   "metadata": {},
   "source": [
    "Read the files in the current directory and print the total number of files to be segmented. Based upon the model of your choice also specify the number of rays used in the startdist model while doing the training. Also specify the threshold value for probability value."
   ]
  },
  {
   "cell_type": "code",
   "execution_count": null,
   "metadata": {},
   "outputs": [],
   "source": [
    "Path = os.path.join(SourceDir, '*.tif')\n",
    "X = sorted(glob.glob(Path))\n",
    "X = list(map(imread,X))\n",
    "Names = glob.glob(Path)\n",
    "axes = 'TYX'\n",
    "thresh = 0.2\n",
    "nrays = 256\n",
    "\n",
    "print('Total number of images to be segmented = ', len(X))\n",
    "print('Image size = ', X[0].shape)\n"
   ]
  },
  {
   "cell_type": "markdown",
   "metadata": {},
   "source": [
    "Initialize the Stardist model, after we get the labeled image we remove the small labels below a certain size which is 400 pixels by default but is changable. "
   ]
  },
  {
   "cell_type": "code",
   "execution_count": null,
   "metadata": {},
   "outputs": [],
   "source": [
    "model = StarDist(None, name = ModelName, basedir = ModelDirectory )"
   ]
  },
  {
   "cell_type": "code",
   "execution_count": null,
   "metadata": {},
   "outputs": [],
   "source": [
    "def ApplyAll(model, img, timerange, minsize=400):\n",
    "    \n",
    "    for j in range(timerange):\n",
    "      smallimg = img[j,:,:]\n",
    "      smallprob, smalldist = model.predict(smallimg)\n",
    "      smallconneclabels = ConnecProbability(smallprob, minsize)  \n",
    "      smallcoord = dist_to_coord(smalldist)\n",
    "      smallpoints = non_maximum_suppression(smallcoord,smallprob,prob_thresh=thresh)\n",
    "      smalllabels = polygons_to_label(smallcoord,smallprob,smallpoints)\n",
    "      #Remove the small labels\n",
    "      smalllabels = remove_small_objects(smalllabels, min_size=minsize, connectivity=4, in_place=False)\n",
    "      min = np.amin(smalllabels)\n",
    "      max = np.amax(smalllabels)\n",
    "      #Normalize the labelled image between min and max \n",
    "      smalllabels = normalizeMinMax(smalllabels, min, max)  \n",
    "      #Stack up the output image over time\n",
    "      prob[j,:,:] = smallprob[:,:] \n",
    "      labels[j,:,:] = smalllabels[:,:]\n",
    "      conneclabels[j,:,:] = smallconneclabels[:,:]\n",
    "      \n",
    "        \n",
    "    return prob,labels, conneclabels"
   ]
  },
  {
   "cell_type": "markdown",
   "metadata": {},
   "source": [
    "Apply the model on the input data- Save the UNet output of probability maps and the Labelled images coming out of Stardist after removing the small connected components and normalizing the labelled image for proper viewing as tiff files in Fiji"
   ]
  },
  {
   "cell_type": "code",
   "execution_count": null,
   "metadata": {},
   "outputs": [],
   "source": [
    "\n",
    "for i in range(0, len(X)):\n",
    "\n",
    " img = normalize(X[i],1,99.8)\n",
    " prob = np.array(img)\n",
    " labels = np.array(img)\n",
    " conneclabels = np.array(img)\n",
    " timerange = img.shape[0]\n",
    " \n",
    " \n",
    " ApplyAll(model,img, timerange, 400)   \n",
    " save_tiff_imagej_compatible((TargetDir +'StarProbLabels'+ os.path.basename(Names[i])) , conneclabels, axes)\n",
    " save_tiff_imagej_compatible((TargetDir +'StarLabels'+ os.path.basename(Names[i])) , labels, axes)     \n",
    "\n",
    "\n",
    " "
   ]
  },
  {
   "cell_type": "code",
   "execution_count": null,
   "metadata": {},
   "outputs": [],
   "source": [
    "fig, ax = plt.subplots(3,1, figsize=(12,12))\n",
    "timepoint = 0\n",
    "imgtime = img[timepoint, :,:]\n",
    "\n",
    "probtime = prob[timepoint, ...]\n",
    "labelstime = labels[timepoint, ...]\n",
    "\n",
    "for a,d,cm,s in zip(ax.flat, [imgtime,probtime,labelstime], ['gray','magma','viridis',lbl_cmap],\n",
    "                    ['Input image','Predicted object probability','Predicted label instances']):\n",
    "    a.imshow(d,cmap=cm)\n",
    "    a.set_title(s)\n",
    "    a.axis('off')\n",
    "plt.tight_layout()\n",
    "None;"
   ]
  },
  {
   "cell_type": "code",
   "execution_count": null,
   "metadata": {},
   "outputs": [],
   "source": []
  }
 ],
 "metadata": {
  "kernelspec": {
   "display_name": "Python [conda env:tensorflowpy3pt5]",
   "language": "python",
   "name": "conda-env-tensorflowpy3pt5-py"
  },
  "language_info": {
   "codemirror_mode": {
    "name": "ipython",
    "version": 3
   },
   "file_extension": ".py",
   "mimetype": "text/x-python",
   "name": "python",
   "nbconvert_exporter": "python",
   "pygments_lexer": "ipython3",
   "version": "3.5.5"
  }
 },
 "nbformat": 4,
 "nbformat_minor": 2
}
