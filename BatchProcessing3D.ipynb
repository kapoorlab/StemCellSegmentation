{
 "cells": [
  {
   "cell_type": "code",
   "execution_count": 1,
   "metadata": {
    "scrolled": true
   },
   "outputs": [
    {
     "name": "stderr",
     "output_type": "stream",
     "text": [
      "/data/u934/service_imagerie/v_kapoor/anaconda2/envs/tensorflowpy3pt5/lib/python3.5/importlib/_bootstrap.py:222: RuntimeWarning: numpy.dtype size changed, may indicate binary incompatibility. Expected 96, got 88\n",
      "  return f(*args, **kwds)\n",
      "/data/u934/service_imagerie/v_kapoor/anaconda2/envs/tensorflowpy3pt5/lib/python3.5/importlib/_bootstrap.py:222: RuntimeWarning: numpy.dtype size changed, may indicate binary incompatibility. Expected 96, got 88\n",
      "  return f(*args, **kwds)\n",
      "Using TensorFlow backend.\n",
      "/data/u934/service_imagerie/v_kapoor/anaconda2/envs/tensorflowpy3pt5/lib/python3.5/importlib/_bootstrap.py:222: RuntimeWarning: numpy.dtype size changed, may indicate binary incompatibility. Expected 96, got 88\n",
      "  return f(*args, **kwds)\n"
     ]
    }
   ],
   "source": [
    "from __future__ import print_function, unicode_literals, absolute_import, division\n",
    "import numpy as np\n",
    "from itertools import islice \n",
    "import matplotlib.pyplot as plt\n",
    "%matplotlib inline\n",
    "%config InlineBackend.figure_format = 'retina'\n",
    "import os\n",
    "import glob\n",
    "from tifffile import imread\n",
    "from csbdeep.utils import Path, normalize\n",
    "from skimage.segmentation import find_boundaries\n",
    "from csbdeep.io import save_tiff_imagej_compatible\n",
    "from stardist import dist_to_coord, non_maximum_suppression, polygons_to_label\n",
    "from stardist import random_label_cmap, draw_polygons, sample_points,fill_label_holes\n",
    "from stardist import Config, StarDist\n",
    "\n",
    "np.random.seed(6)\n",
    "lbl_cmap = random_label_cmap()"
   ]
  },
  {
   "cell_type": "code",
   "execution_count": 2,
   "metadata": {},
   "outputs": [],
   "source": [
    "basedir = '/data/u934/service_imagerie/v_kapoor/HEARD/UNet-training/test3D/'\n",
    "basedirResultsWithoutShape = '/data/u934/service_imagerie/v_kapoor/HEARD/UNet-training/results3D/'\n",
    "ModelNameWithoutShape = 'StemCellWithoutShapeCompletion'\n",
    "BaseDirModels = 'models'"
   ]
  },
  {
   "cell_type": "code",
   "execution_count": null,
   "metadata": {},
   "outputs": [],
   "source": []
  },
  {
   "cell_type": "code",
   "execution_count": 12,
   "metadata": {},
   "outputs": [
    {
     "name": "stdout",
     "output_type": "stream",
     "text": [
      "Total number of images to be segmented =  1\n",
      "Image size =  (73, 512, 512)\n"
     ]
    }
   ],
   "source": [
    "Path = os.path.join(basedir, '*.tif')\n",
    "\n",
    "Y = []\n",
    "Names = []\n",
    "\n",
    "filesRaw = glob.glob(Path)\n",
    "maxtime = 0\n",
    "for fname in filesRaw:\n",
    "     x = imread(fname)\n",
    "     Y.append(x)\n",
    "     Names.append(fname)\n",
    "      \n",
    "Y.sort\n",
    "Names.sort\n",
    "\n",
    "\n",
    "threshold = 0.6\n",
    "\n",
    "axes = 'YX'\n",
    "print('Total number of images to be segmented = ', len(Y))\n",
    "print('Image size = ', Y[0].shape)\n"
   ]
  },
  {
   "cell_type": "code",
   "execution_count": 13,
   "metadata": {},
   "outputs": [
    {
     "name": "stdout",
     "output_type": "stream",
     "text": [
      "Loading network weights from 'weights_best.h5'.\n"
     ]
    }
   ],
   "source": [
    "model_no_sc = StarDist(None, name = ModelNameWithoutShape, basedir = BaseDirModels )"
   ]
  },
  {
   "cell_type": "code",
   "execution_count": null,
   "metadata": {},
   "outputs": [],
   "source": [
    "img = normalize(Y[0],1,99.8)\n",
    "prob = np.array(img)\n",
    "labels = np.array(img)\n",
    "\n",
    "\n",
    "dist = np.zeros((img.shape[0], img.shape[1] ,img.shape[2], 32))\n",
    "coord = np.zeros((img.shape[0], img.shape[1] ,img.shape[2],2, 32))\n",
    "\n",
    "\n",
    "maxpoints = 0;\n",
    "secdim = 0;\n",
    "for i in range(timerange):\n",
    "      smallimg = img[i,:,:]\n",
    "      smallprob, smalldist = model_no_sc.predict(smallimg)\n",
    "      smallcoord = dist_to_coord(smalldist)\n",
    "      smallpoints = non_maximum_suppression(smallcoord,smallprob,prob_thresh=threshold)\n",
    "      secdim = smallpoints.shape[1]\n",
    "      if smallpoints.shape[0] > maxpoints: \n",
    "          maxpoints = smallpoints.shape[0]\n",
    "            \n",
    "            \n",
    "points = np.zeros((img.shape[0],maxpoints ,2), dtype = 'i')           \n",
    "newsmallpoints = np.zeros((maxpoints, secdim), dtype = 'i')\n",
    "for i in range(timerange):\n",
    "   \n",
    "   smallimg = img[i,:,:]\n",
    "   smallprob, smalldist = model_no_sc.predict(smallimg)\n",
    "   smallcoord = dist_to_coord(smalldist)\n",
    "   smallpoints = non_maximum_suppression(smallcoord,smallprob,prob_thresh=threshold)\n",
    "\n",
    "   newsmallpoints[:smallpoints.shape[0], :smallpoints.shape[1]] = smallpoints;\n",
    "   \n",
    "   smalllabels = polygons_to_label(smallcoord,smallprob,newsmallpoints)\n",
    "  \n",
    "   prob[i,:,:] = smallprob[:,:] \n",
    "   labels[i,:,:] = smalllabels[:,:]\n",
    "   dist[i,:,:,:] = smalldist[:,:,:]\n",
    "   coord[i,:,:,:,:] = smallcoord[:,:,:,:]\n",
    "    \n",
    "            \n",
    "    \n",
    "   points[i,:,:] = newsmallpoints[:,:] \n",
    "  \n",
    "  "
   ]
  },
  {
   "cell_type": "code",
   "execution_count": null,
   "metadata": {},
   "outputs": [],
   "source": [
    "newsmalllabels = np.array(smalllabels)\n",
    "newsmallprob = np.array(smallprob)\n",
    "newsmalldist = np.array(smalldist)\n",
    "newsmallimg = np.array(smallimg)\n",
    "newsmallcoord = np.array(smallcoord)\n",
    "i = timerange - 1\n",
    "\n",
    "newsmalldist  = dist[i,:,:,:]\n",
    "newsmalllabels = labels[i,:,:] \n",
    "newsmallprob = prob[i,:,:] \n",
    "newsmallimg = img[i,:,:]\n",
    "newsmallcoord = coord[i,:,:,:,:]\n"
   ]
  },
  {
   "cell_type": "code",
   "execution_count": null,
   "metadata": {},
   "outputs": [],
   "source": [
    "newsmalllabels = np.array(smalllabels)\n",
    "newsmallprob = np.array(smallprob)\n",
    "newsmalldist = np.array(smalldist)\n",
    "newsmallimg = np.array(smallimg)\n",
    "newsmallcoord = np.array(smallcoord)\n",
    "newsmallpoints = np.array(smallpoints, dtype = 'i')\n",
    "for i in range(timerange):\n",
    "      \n",
    "      newsmalldist  = dist[i,:,:,:]\n",
    "      newsmalllabels = labels[i,:,:] \n",
    "      newsmallprob = prob[i,:,:] \n",
    "      newsmallimg = img[i,:,:]\n",
    "      newsmallpoints = points[i,:,:] \n",
    "      newsmallcoord = coord[i,:,:,:,:]\n",
    "    \n",
    "\n",
    "None;\n",
    "\n"
   ]
  },
  {
   "cell_type": "code",
   "execution_count": null,
   "metadata": {},
   "outputs": [],
   "source": [
    "\n",
    "\n",
    "\n"
   ]
  },
  {
   "cell_type": "code",
   "execution_count": 14,
   "metadata": {},
   "outputs": [],
   "source": [
    " def ApplyAll(model, img, timerange):\n",
    "    for j in range(timerange):\n",
    "      smallimg = img[j,:,:]\n",
    "      smallprob, smalldist = model_no_sc.predict(smallimg)\n",
    "      smallcoord = dist_to_coord(smalldist)\n",
    "      smallpoints = non_maximum_suppression(smallcoord,smallprob,prob_thresh=threshold)\n",
    "   \n",
    "      smalllabels = polygons_to_label(smallcoord,smallprob,smallpoints)\n",
    "      if j == 0:\n",
    "       plt.figure(figsize=(13,12))\n",
    "       points_rnd = sample_points(200,smallprob>threshold)\n",
    "       numberA = 121\n",
    "       numberB = 122 \n",
    "       plt.subplot(numberA); plt.imshow(smallimg,cmap='gray'); \n",
    "       draw_polygons(smallcoord,smallprob,points_rnd,cmap=lbl_cmap)\n",
    "       plt.axis('off'); plt.title('Polygons randomly sampled')\n",
    "      \n",
    "       plt.subplot(numberB); plt.imshow(smallimg,cmap='gray'); draw_polygons(smallcoord,smallprob,smallpoints,cmap=lbl_cmap)\n",
    "       plt.axis('off'); plt.title('Polygons after non-maximum suppression')\n",
    "       plt.tight_layout()\n",
    "\n",
    "        \n",
    "    return smalllabels\n",
    "    \n",
    "    \n",
    "        \n",
    "        \n",
    "      \n",
    "  "
   ]
  },
  {
   "cell_type": "code",
   "execution_count": 15,
   "metadata": {},
   "outputs": [
    {
     "name": "stderr",
     "output_type": "stream",
     "text": [
      "/data/u934/service_imagerie/v_kapoor/anaconda2/envs/tensorflowpy3pt5/lib/python3.5/site-packages/csbdeep/data/prepare.py:284: FutureWarning: Using a non-tuple sequence for multidimensional indexing is deprecated; use `arr[tuple(seq)]` instead of `arr[seq]`. In the future this will be interpreted as an array index, `arr[np.array(seq)]`, which will result either in an error or a different result.\n",
      "  return x[crop]\n",
      "/data/u934/service_imagerie/v_kapoor/anaconda2/envs/tensorflowpy3pt5/lib/python3.5/site-packages/csbdeep/utils/utils.py:209: FutureWarning: Using a non-tuple sequence for multidimensional indexing is deprecated; use `arr[tuple(seq)]` instead of `arr[seq]`. In the future this will be interpreted as an array index, `arr[np.array(seq)]`, which will result either in an error or a different result.\n",
      "  x = x[slices]\n"
     ]
    }
   ],
   "source": [
    "\n",
    "for i in range(0, len(Y)):\n",
    "\n",
    " img = normalize(Y[i],1,99.8)\n",
    " timerange = Y[i].shape[0] \n",
    " labels = ApplyAll(model_no_sc,img, timerange)   \n",
    "\n",
    "        \n",
    " \n",
    "\n",
    " save_tiff_imagej_compatible((basedirResultsWithoutShape +'Star'+ os.path.basename(Names[i])) , labels, axes)   \n"
   ]
  },
  {
   "cell_type": "code",
   "execution_count": 16,
   "metadata": {},
   "outputs": [
    {
     "ename": "NameError",
     "evalue": "name 'smallprob' is not defined",
     "output_type": "error",
     "traceback": [
      "\u001b[0;31m---------------------------------------------------------------------------\u001b[0m",
      "\u001b[0;31mNameError\u001b[0m                                 Traceback (most recent call last)",
      "\u001b[0;32m<ipython-input-16-cf3fd40c6e7d>\u001b[0m in \u001b[0;36m<module>\u001b[0;34m()\u001b[0m\n\u001b[1;32m      1\u001b[0m \u001b[0mplt\u001b[0m\u001b[0;34m.\u001b[0m\u001b[0mfigure\u001b[0m\u001b[0;34m(\u001b[0m\u001b[0mfigsize\u001b[0m\u001b[0;34m=\u001b[0m\u001b[0;34m(\u001b[0m\u001b[0;36m13\u001b[0m\u001b[0;34m,\u001b[0m\u001b[0;36m12\u001b[0m\u001b[0;34m)\u001b[0m\u001b[0;34m)\u001b[0m\u001b[0;34m\u001b[0m\u001b[0m\n\u001b[0;32m----> 2\u001b[0;31m \u001b[0mpoints_rnd\u001b[0m \u001b[0;34m=\u001b[0m \u001b[0msample_points\u001b[0m\u001b[0;34m(\u001b[0m\u001b[0;36m200\u001b[0m\u001b[0;34m,\u001b[0m\u001b[0msmallprob\u001b[0m\u001b[0;34m>\u001b[0m\u001b[0mthreshold\u001b[0m\u001b[0;34m)\u001b[0m\u001b[0;34m\u001b[0m\u001b[0m\n\u001b[0m\u001b[1;32m      3\u001b[0m \u001b[0mnumberA\u001b[0m \u001b[0;34m=\u001b[0m \u001b[0;36m121\u001b[0m\u001b[0;34m\u001b[0m\u001b[0m\n\u001b[1;32m      4\u001b[0m \u001b[0mnumberB\u001b[0m \u001b[0;34m=\u001b[0m \u001b[0;36m122\u001b[0m\u001b[0;34m\u001b[0m\u001b[0m\n\u001b[1;32m      5\u001b[0m \u001b[0mplt\u001b[0m\u001b[0;34m.\u001b[0m\u001b[0msubplot\u001b[0m\u001b[0;34m(\u001b[0m\u001b[0mnumberA\u001b[0m\u001b[0;34m)\u001b[0m\u001b[0;34m;\u001b[0m \u001b[0mplt\u001b[0m\u001b[0;34m.\u001b[0m\u001b[0mimshow\u001b[0m\u001b[0;34m(\u001b[0m\u001b[0msmallimg\u001b[0m\u001b[0;34m,\u001b[0m\u001b[0mcmap\u001b[0m\u001b[0;34m=\u001b[0m\u001b[0;34m'gray'\u001b[0m\u001b[0;34m)\u001b[0m\u001b[0;34m;\u001b[0m\u001b[0;34m\u001b[0m\u001b[0m\n",
      "\u001b[0;31mNameError\u001b[0m: name 'smallprob' is not defined"
     ]
    },
    {
     "data": {
      "text/plain": [
       "<Figure size 936x864 with 0 Axes>"
      ]
     },
     "metadata": {},
     "output_type": "display_data"
    }
   ],
   "source": [
    "\n",
    "    \n",
    "    "
   ]
  },
  {
   "cell_type": "code",
   "execution_count": null,
   "metadata": {},
   "outputs": [],
   "source": []
  },
  {
   "cell_type": "code",
   "execution_count": null,
   "metadata": {},
   "outputs": [],
   "source": []
  }
 ],
 "metadata": {
  "kernelspec": {
   "display_name": "Python [conda env:tensorflowpy3pt5]",
   "language": "python",
   "name": "conda-env-tensorflowpy3pt5-py"
  },
  "language_info": {
   "codemirror_mode": {
    "name": "ipython",
    "version": 3
   },
   "file_extension": ".py",
   "mimetype": "text/x-python",
   "name": "python",
   "nbconvert_exporter": "python",
   "pygments_lexer": "ipython3",
   "version": "3.5.5"
  }
 },
 "nbformat": 4,
 "nbformat_minor": 2
}
